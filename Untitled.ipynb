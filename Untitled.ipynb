{
 "cells": [
  {
   "cell_type": "code",
   "execution_count": 6,
   "id": "39d1572d-4907-4102-bb58-5f5a0c3a3731",
   "metadata": {},
   "outputs": [
    {
     "data": {
      "text/plain": [
       "'hello'"
      ]
     },
     "execution_count": 6,
     "metadata": {},
     "output_type": "execute_result"
    }
   ],
   "source": [
    "'hello'"
   ]
  },
  {
   "cell_type": "code",
   "execution_count": 8,
   "id": "22c270ed-e5f3-42eb-8129-6f51dcdea111",
   "metadata": {},
   "outputs": [
    {
     "data": {
      "text/plain": [
       "4"
      ]
     },
     "execution_count": 8,
     "metadata": {},
     "output_type": "execute_result"
    }
   ],
   "source": [
    "2+2"
   ]
  },
  {
   "cell_type": "code",
   "execution_count": 10,
   "id": "7a3af245-efb3-4dd3-add8-c06e6ecbcfa5",
   "metadata": {},
   "outputs": [],
   "source": [
    "x = 10"
   ]
  },
  {
   "cell_type": "code",
   "execution_count": 12,
   "id": "77455c58-fea2-4fd4-afe0-0a4a090b40c5",
   "metadata": {},
   "outputs": [
    {
     "data": {
      "text/plain": [
       "4375322672"
      ]
     },
     "execution_count": 12,
     "metadata": {},
     "output_type": "execute_result"
    }
   ],
   "source": [
    "id(x)"
   ]
  },
  {
   "cell_type": "code",
   "execution_count": 14,
   "id": "945bef4a-4f8f-47c7-b6af-2960e4ee63b4",
   "metadata": {},
   "outputs": [
    {
     "name": "stdin",
     "output_type": "stream",
     "text": [
      "enter your first number 10\n"
     ]
    }
   ],
   "source": [
    "x = int (input('enter your first number'))"
   ]
  },
  {
   "cell_type": "code",
   "execution_count": 16,
   "id": "65ed4c08-025a-41c7-9135-e22bd43871d0",
   "metadata": {},
   "outputs": [
    {
     "name": "stdin",
     "output_type": "stream",
     "text": [
      "enter your second number 30\n"
     ]
    }
   ],
   "source": [
    "y = int (input('enter your second number'))"
   ]
  },
  {
   "cell_type": "code",
   "execution_count": 18,
   "id": "4ab5f841-1a1e-47a1-8b0e-b6fa54fab129",
   "metadata": {},
   "outputs": [
    {
     "data": {
      "text/plain": [
       "40"
      ]
     },
     "execution_count": 18,
     "metadata": {},
     "output_type": "execute_result"
    }
   ],
   "source": [
    "x+y\n"
   ]
  },
  {
   "cell_type": "code",
   "execution_count": 20,
   "id": "be318bd4-e103-476e-8f7c-cdfedeb2965e",
   "metadata": {},
   "outputs": [],
   "source": [
    "data = 'pyhton'\n"
   ]
  },
  {
   "cell_type": "code",
   "execution_count": 22,
   "id": "5f5cb292-b777-46c2-a0d9-db6c67cb2e80",
   "metadata": {},
   "outputs": [
    {
     "data": {
      "text/plain": [
       "str"
      ]
     },
     "execution_count": 22,
     "metadata": {},
     "output_type": "execute_result"
    }
   ],
   "source": [
    "type(data)"
   ]
  },
  {
   "cell_type": "code",
   "execution_count": null,
   "id": "2e03ba5e-4637-4b00-bb2e-3a2d9f7d8134",
   "metadata": {},
   "outputs": [],
   "source": []
  }
 ],
 "metadata": {
  "kernelspec": {
   "display_name": "Python [conda env:base] *",
   "language": "python",
   "name": "conda-base-py"
  },
  "language_info": {
   "codemirror_mode": {
    "name": "ipython",
    "version": 3
   },
   "file_extension": ".py",
   "mimetype": "text/x-python",
   "name": "python",
   "nbconvert_exporter": "python",
   "pygments_lexer": "ipython3",
   "version": "3.12.7"
  }
 },
 "nbformat": 4,
 "nbformat_minor": 5
}
